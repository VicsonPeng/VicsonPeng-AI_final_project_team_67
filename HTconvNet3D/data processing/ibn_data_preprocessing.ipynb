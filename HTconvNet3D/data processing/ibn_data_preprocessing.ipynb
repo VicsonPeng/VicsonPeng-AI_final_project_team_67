{
 "cells": [
  {
   "cell_type": "code",
   "execution_count": 18,
   "metadata": {
    "collapsed": true
   },
   "outputs": [],
   "source": [
    "import numpy as np\n",
    "from tqdm import tqdm\n",
    "import matplotlib.pyplot as plt\n",
    "from scipy.signal import medfilt\n",
    "import pickle\n"
   ]
  },
  {
   "cell_type": "code",
   "execution_count": 19,
   "metadata": {
    "collapsed": true
   },
   "outputs": [],
   "source": [
    "class Config():\n",
    "    def __init__(self):        \n",
    "        self.frame_l = 32 # the length of frames\n",
    "        self.joint_n = 21 # the number of joints\n",
    "        self.joint_d = 3 # the dimension of classes        \n",
    "        self.data_dir = 'C:/Users/vicso/Source/Repos/AI_final_project_hand_gesture_recognization/HT_convNET_git/ibn_dataset_new/ibn_dataset/'\n",
    "        self.save_dir = 'C:/Users/vicso/Source/Repos/AI_final_project_hand_gesture_recognization/HT_convNET_git/ibn_pkl/'\n",
    "\n",
    "C = Config()"
   ]
  },
  {
   "cell_type": "code",
   "execution_count": 28,
   "metadata": {},
   "outputs": [],
   "source": [
    "train_list = np.loadtxt(C.data_dir + 'train/' + 'train_gestures.txt', dtype=str)\n",
    "test_list = np.loadtxt(C.data_dir  + 'test/'  + 'test_gestures.txt' , dtype=str)\n",
    "map = {'B0A' : 1, 'B0B' : 2, 'D0X' : 3, 'G01' : 4, 'G02' : 5, 'G03' : 6, 'G04' : 7, 'G05' : 8, 'G06' : 9, 'G07' : 10, 'G08' : 11, 'G09' : 12, 'G10' : 13, 'G11' : 14 }"
   ]
  },
  {
   "cell_type": "code",
   "execution_count": 29,
   "metadata": {
    "scrolled": true
   },
   "outputs": [
    {
     "name": "stderr",
     "output_type": "stream",
     "text": [
      "100%|██████████| 4039/4039 [00:44<00:00, 90.48it/s] \n"
     ]
    }
   ],
   "source": [
    "Train = {}\n",
    "Train['pose'] = []\n",
    "Train['label'] = []\n",
    "\n",
    "for i in tqdm(range(len(train_list))):\n",
    "    idx_gesture = train_list[i][0]\n",
    "    label = map[train_list[i][0]] # 都放一樣的label 不分coarse and fine\n",
    "    v = train_list[i][1] \n",
    "    \n",
    "    \n",
    "    path = C.data_dir +'train/'+ str(idx_gesture) + '/c' + str(v) + '.txt'\n",
    "    p = np.loadtxt(path).astype('float32')\n",
    "\n",
    "    for j in range(p.shape[1]):\n",
    "        p[:,j] = medfilt(p[:,j])\n",
    "        \n",
    "    Train['pose'].append(p)\n",
    "    Train['label'].append(label)\n",
    "    "
   ]
  },
  {
   "cell_type": "code",
   "execution_count": 30,
   "metadata": {
    "collapsed": true
   },
   "outputs": [],
   "source": [
    "pickle.dump(Train, open(C.save_dir+\"train.pkl\", \"wb\"))"
   ]
  },
  {
   "cell_type": "code",
   "execution_count": 31,
   "metadata": {},
   "outputs": [
    {
     "name": "stderr",
     "output_type": "stream",
     "text": [
      "100%|██████████| 1610/1610 [00:19<00:00, 81.19it/s] \n"
     ]
    }
   ],
   "source": [
    "Test = {}\n",
    "Test['pose'] = []\n",
    "Test['label'] = []\n",
    "\n",
    "for i in tqdm(range(len(test_list))):\n",
    "    idx_gesture = test_list[i][0]\n",
    "    label = map[test_list[i][0]] # 都放一樣的label 不分coarse and fine\n",
    "    v = test_list[i][1] \n",
    "    \n",
    "    path = C.data_dir +'test/'+ str(idx_gesture) + '/c' + str(v) + '.txt'\n",
    "    p = np.loadtxt(path).astype('float32')\n",
    "        \n",
    "    for j in range(p.shape[1]):\n",
    "        p[:,j] = medfilt(p[:,j])\n",
    "        \n",
    "    Test['pose'].append(p)\n",
    "    Test['label'].append(label)\n",
    "    "
   ]
  },
  {
   "cell_type": "code",
   "execution_count": 32,
   "metadata": {
    "collapsed": true
   },
   "outputs": [],
   "source": [
    "pickle.dump(Test, open(C.save_dir+\"test.pkl\", \"wb\"))"
   ]
  },
  {
   "cell_type": "code",
   "execution_count": 33,
   "metadata": {
    "collapsed": true
   },
   "outputs": [],
   "source": [
    "Test = pickle.load(open(C.save_dir+\"test.pkl\", \"rb\"))"
   ]
  },
  {
   "cell_type": "code",
   "execution_count": null,
   "metadata": {
    "collapsed": true
   },
   "outputs": [],
   "source": []
  }
 ],
 "metadata": {
  "kernelspec": {
   "display_name": "Python 3",
   "language": "python",
   "name": "python3"
  },
  "language_info": {
   "codemirror_mode": {
    "name": "ipython",
    "version": 3
   },
   "file_extension": ".py",
   "mimetype": "text/x-python",
   "name": "python",
   "nbconvert_exporter": "python",
   "pygments_lexer": "ipython3",
   "version": "3.10.11"
  }
 },
 "nbformat": 4,
 "nbformat_minor": 2
}
