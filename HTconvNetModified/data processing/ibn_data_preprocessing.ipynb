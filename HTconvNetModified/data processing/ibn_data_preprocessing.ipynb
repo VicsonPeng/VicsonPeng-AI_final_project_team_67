{
 "cells": [
  {
   "cell_type": "code",
   "execution_count": 9,
   "metadata": {
    "collapsed": true
   },
   "outputs": [],
   "source": [
    "import numpy as np\n",
    "from tqdm import tqdm\n",
    "import matplotlib.pyplot as plt\n",
    "from scipy.signal import medfilt\n",
    "import pickle\n"
   ]
  },
  {
   "cell_type": "code",
   "execution_count": 10,
   "metadata": {
    "collapsed": true
   },
   "outputs": [],
   "source": [
    "class Config():\n",
    "    def __init__(self):        \n",
    "        self.frame_l = 32 # the length of frames\n",
    "        self.joint_n = 21 # the number of joints\n",
    "        self.joint_d = 3 # the dimension of classes        \n",
    "        self.data_dir = 'C:/Users/vicso/Source/Repos/AI_final_project_hand_gesture_recognization/HT_convNET_git/ibn_dataset/'\n",
    "        self.save_dir = 'C:/Users/vicso/Source/Repos/AI_final_project_hand_gesture_recognization/HT_convNET_git/ibn_pkl/'\n",
    "\n",
    "C = Config()"
   ]
  },
  {
   "cell_type": "code",
   "execution_count": 11,
   "metadata": {},
   "outputs": [],
   "source": [
    "train_list = np.loadtxt(C.data_dir + 'train/' + 'train_gestures.txt').astype('int16')\n",
    "test_list = np.loadtxt(C.data_dir  + 'test/'  + 'test_gestures.txt' ).astype('int16')"
   ]
  },
  {
   "cell_type": "code",
   "execution_count": null,
   "metadata": {
    "scrolled": true
   },
   "outputs": [
    {
     "name": "stderr",
     "output_type": "stream",
     "text": [
      "100%|██████████| 4039/4039 [00:45<00:00, 88.88it/s] \n"
     ]
    }
   ],
   "source": [
    "Train = {}\n",
    "Train['pose'] = []\n",
    "Train['label'] = []\n",
    "\n",
    "for i in tqdm(range(len(train_list))):\n",
    "    idx_gesture = train_list[i][0]\n",
    "    label = train_list[i][0] # 都放一樣的label 不分coarse and fine\n",
    "    v = train_list[i][1] \n",
    "    \n",
    "    \n",
    "    path = C.data_dir +'train/'+ str(idx_gesture) + '/c' + str(v) + '.txt'\n",
    "    p = np.loadtxt(path).astype('float32')\n",
    "\n",
    "    for j in range(p.shape[1]):\n",
    "        p[:,j] = medfilt(p[:,j])\n",
    "        \n",
    "    Train['pose'].append(p)\n",
    "    Train['label'].append(label)\n",
    "    "
   ]
  },
  {
   "cell_type": "code",
   "execution_count": 13,
   "metadata": {
    "collapsed": true
   },
   "outputs": [],
   "source": [
    "pickle.dump(Train, open(C.save_dir+\"train.pkl\", \"wb\"))"
   ]
  },
  {
   "cell_type": "code",
   "execution_count": null,
   "metadata": {},
   "outputs": [
    {
     "name": "stderr",
     "output_type": "stream",
     "text": [
      "100%|██████████| 1610/1610 [00:07<00:00, 229.91it/s]\n"
     ]
    }
   ],
   "source": [
    "Test = {}\n",
    "Test['pose'] = []\n",
    "Test['label'] = []\n",
    "\n",
    "for i in tqdm(range(len(test_list))):\n",
    "    idx_gesture = test_list[i][0]\n",
    "    label = test_list[i][0] # 都放一樣的label 不分coarse and fine\n",
    "    v = test_list[i][1] \n",
    "    \n",
    "    path = C.data_dir +'train/'+ str(idx_gesture) + '/c' + str(v) + '.txt'\n",
    "    p = np.loadtxt(path).astype('float32')\n",
    "        \n",
    "    for j in range(p.shape[1]):\n",
    "        p[:,j] = medfilt(p[:,j])\n",
    "        \n",
    "    Test['pose'].append(p)\n",
    "    Test['label'].append(label)\n",
    "    "
   ]
  },
  {
   "cell_type": "code",
   "execution_count": 16,
   "metadata": {
    "collapsed": true
   },
   "outputs": [],
   "source": [
    "pickle.dump(Test, open(C.save_dir+\"test.pkl\", \"wb\"))"
   ]
  },
  {
   "cell_type": "code",
   "execution_count": 17,
   "metadata": {
    "collapsed": true
   },
   "outputs": [],
   "source": [
    "Test = pickle.load(open(C.save_dir+\"test.pkl\", \"rb\"))"
   ]
  },
  {
   "cell_type": "code",
   "execution_count": null,
   "metadata": {
    "collapsed": true
   },
   "outputs": [],
   "source": []
  }
 ],
 "metadata": {
  "kernelspec": {
   "display_name": "Python 3",
   "language": "python",
   "name": "python3"
  },
  "language_info": {
   "codemirror_mode": {
    "name": "ipython",
    "version": 3
   },
   "file_extension": ".py",
   "mimetype": "text/x-python",
   "name": "python",
   "nbconvert_exporter": "python",
   "pygments_lexer": "ipython3",
   "version": "3.10.11"
  }
 },
 "nbformat": 4,
 "nbformat_minor": 2
}
